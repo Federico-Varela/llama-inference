{
 "cells": [
  {
   "cell_type": "code",
   "execution_count": null,
   "id": "71170e24-2210-48e6-b1b5-9adb0431e8c2",
   "metadata": {},
   "outputs": [],
   "source": [
    "import pandas as pd\n",
    "pd.set_option('display.float_format', '{:.1f}'.format)"
   ]
  },
  {
   "cell_type": "code",
   "execution_count": null,
   "id": "8bda2660-675e-4648-a692-28b54668813f",
   "metadata": {},
   "outputs": [],
   "source": [
    "files = ['triton-tensorRT/bench-triton-tensorRT-llm.csv',\n",
    "'triton-tensorRT-quantized/bench-triton-tensorRT-llm-quantized.csv',\n",
    "'triton-vllm-awq/bench-triton-vllm-awq.csv',\n",
    "'triton-tensorRT-quantized-awq/bench-triton-tensorRT-llm-quantized-awq.csv']"
   ]
  },
  {
   "cell_type": "code",
   "execution_count": null,
   "id": "00b61741-4597-49c5-bf2e-02f04b6457b8",
   "metadata": {},
   "outputs": [],
   "source": [
    "df = pd.concat([pd.read_csv(f) for f in files])\n",
    "result = df.groupby('note')[['tok_count', 'time']].mean().reset_index()"
   ]
  },
  {
   "cell_type": "code",
   "execution_count": null,
   "id": "0096ffa9-76b4-4b73-b663-05bd181563ad",
   "metadata": {},
   "outputs": [],
   "source": [
    "result['Tok/Sec'] = result.tok_count / result.time\n",
    "result = result.rename(columns={'tok_count': 'Avg Tok Count', \n",
    "               'time': 'Avg Time'})\n",
    "result = result.sort_values(by='Tok/Sec', ascending=True).reset_index(drop=True)"
   ]
  },
  {
   "cell_type": "code",
   "execution_count": null,
   "id": "9797f57e-8695-4bc1-b14b-0b2b1c96b533",
   "metadata": {},
   "outputs": [
    {
     "data": {
      "text/html": [
       "<div>\n",
       "<style scoped>\n",
       "    .dataframe tbody tr th:only-of-type {\n",
       "        vertical-align: middle;\n",
       "    }\n",
       "\n",
       "    .dataframe tbody tr th {\n",
       "        vertical-align: top;\n",
       "    }\n",
       "\n",
       "    .dataframe thead th {\n",
       "        text-align: right;\n",
       "    }\n",
       "</style>\n",
       "<table border=\"1\" class=\"dataframe\">\n",
       "  <thead>\n",
       "    <tr style=\"text-align: right;\">\n",
       "      <th></th>\n",
       "      <th>Backend</th>\n",
       "      <th>Quantization</th>\n",
       "      <th>Avg Tok Count</th>\n",
       "      <th>Avg Time</th>\n",
       "      <th>Tok/Sec</th>\n",
       "    </tr>\n",
       "  </thead>\n",
       "  <tbody>\n",
       "    <tr>\n",
       "      <th>0</th>\n",
       "      <td>TensorRT-LLM</td>\n",
       "      <td>None</td>\n",
       "      <td>225.6</td>\n",
       "      <td>3.3</td>\n",
       "      <td>69.0</td>\n",
       "    </tr>\n",
       "    <tr>\n",
       "      <th>1</th>\n",
       "      <td>TensorRT-LLM</td>\n",
       "      <td>INT8 weight-only quantization</td>\n",
       "      <td>225.6</td>\n",
       "      <td>1.8</td>\n",
       "      <td>125.3</td>\n",
       "    </tr>\n",
       "    <tr>\n",
       "      <th>2</th>\n",
       "      <td>vLLM</td>\n",
       "      <td>AWQ 4bit quantization</td>\n",
       "      <td>223.6</td>\n",
       "      <td>1.6</td>\n",
       "      <td>142.2</td>\n",
       "    </tr>\n",
       "    <tr>\n",
       "      <th>3</th>\n",
       "      <td>TensorRT-LLM</td>\n",
       "      <td>AWQ 4bit quantization</td>\n",
       "      <td>225.6</td>\n",
       "      <td>1.1</td>\n",
       "      <td>205.5</td>\n",
       "    </tr>\n",
       "  </tbody>\n",
       "</table>\n",
       "</div>"
      ],
      "text/plain": [
       "        Backend                   Quantization  Avg Tok Count  Avg Time  \\\n",
       "0  TensorRT-LLM                           None          225.6       3.3   \n",
       "1  TensorRT-LLM  INT8 weight-only quantization          225.6       1.8   \n",
       "2          vLLM          AWQ 4bit quantization          223.6       1.6   \n",
       "3  TensorRT-LLM          AWQ 4bit quantization          225.6       1.1   \n",
       "\n",
       "   Tok/Sec  \n",
       "0     69.0  \n",
       "1    125.3  \n",
       "2    142.2  \n",
       "3    205.5  "
      ]
     },
     "execution_count": null,
     "metadata": {},
     "output_type": "execute_result"
    }
   ],
   "source": [
    "def backend(note):\n",
    "    if note == 'triton-tensorRT-llm':\n",
    "        return 'TensorRT-LLM'\n",
    "    if note == 'triton-tensorRT-llm-quantized':\n",
    "        return 'TensorRT-LLM'\n",
    "    if note == 'triton-vllm-awq':\n",
    "        return 'vLLM'\n",
    "    if note == 'triton-tensorRT-llm-quantized-awq':\n",
    "        return 'TensorRT-LLM'\n",
    "\n",
    "def quant(note):\n",
    "    if note == 'triton-tensorRT-llm':\n",
    "        return 'None'\n",
    "    if note == 'triton-tensorRT-llm-quantized':\n",
    "        return 'INT8 weight-only quantization'\n",
    "    if note == 'triton-vllm-awq':\n",
    "        return 'AWQ 4bit quantization'\n",
    "    if note == 'triton-tensorRT-llm-quantized-awq':\n",
    "        return 'AWQ 4bit quantization'\n",
    "\n",
    "result['Backend'] = result['note'].apply(backend)\n",
    "result['Quantization']= result['note'].apply(quant)\n",
    "result[['Backend', 'Quantization', 'Avg Tok Count', 'Avg Time', 'Tok/Sec']]"
   ]
  },
  {
   "cell_type": "code",
   "execution_count": null,
   "id": "62fe028e-f324-42f4-b79e-4ebce5fcc883",
   "metadata": {},
   "outputs": [],
   "source": []
  }
 ],
 "metadata": {
  "kernelspec": {
   "display_name": "python3",
   "language": "python",
   "name": "python3"
  }
 },
 "nbformat": 4,
 "nbformat_minor": 5
}
