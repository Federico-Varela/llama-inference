{
 "cells": [
  {
   "cell_type": "code",
   "execution_count": 1,
   "id": "fcec9e19-4d19-4910-8557-fffd06f6d569",
   "metadata": {},
   "outputs": [
    {
     "name": "stderr",
     "output_type": "stream",
     "text": [
      "/home/hamel/mambaforge/envs/ob-inference/lib/python3.10/site-packages/tqdm/auto.py:21: TqdmWarning: IProgress not found. Please update jupyter and ipywidgets. See https://ipywidgets.readthedocs.io/en/stable/user_install.html\n",
      "  from .autonotebook import tqdm as notebook_tqdm\n"
     ]
    }
   ],
   "source": [
    "import requests, time\n",
    "import concurrent.futures\n",
    "from transformers import AutoTokenizer\n",
    "import pandas as pd\n",
    "\n",
    "tokenizer = AutoTokenizer.from_pretrained(\"NousResearch/Llama-2-7b-hf\")"
   ]
  },
  {
   "cell_type": "code",
   "execution_count": 2,
   "id": "1cc9829d-ced8-46e0-8ece-9e738625d928",
   "metadata": {},
   "outputs": [],
   "source": [
    "def send_request():\n",
    "    url = 'http://localhost:8000/v2/models/ensemble/generate'\n",
    "    data = {\n",
    "        \"text_input\": \"How do I count to nine in French?\",\n",
    "        \"parameters\": {\n",
    "            \"max_tokens\": 200,\n",
    "            \"bad_words\": [\"\"],\n",
    "            \"stop_words\": [\"\"],\n",
    "            \"temperature\": 1.0,\n",
    "        }\n",
    "    }\n",
    "    response = requests.post(url, json=data)\n",
    "    return response\n",
    "\n",
    "\n",
    "def concurrent_test(n_threads):\n",
    "    out = []\n",
    "    start = time.perf_counter()\n",
    "    with concurrent.futures.ThreadPoolExecutor() as executor:\n",
    "        futures = [executor.submit(send_request) for _ in range(n_threads)]\n",
    "        for future in concurrent.futures.as_completed(futures):\n",
    "            response = future.result()\n",
    "            out.append(response.json()['text_output'])\n",
    "    request_time = time.perf_counter() - start\n",
    "    toks = sum([len(tokenizer.encode(o)) for o in out])\n",
    "    return toks / request_time\n",
    "        "
   ]
  },
  {
   "cell_type": "code",
   "execution_count": 3,
   "id": "048d94ea-de7d-4f0c-9101-1b89bdb7118c",
   "metadata": {},
   "outputs": [
    {
     "data": {
      "text/plain": [
       "84.0557487395887"
      ]
     },
     "execution_count": 3,
     "metadata": {},
     "output_type": "execute_result"
    }
   ],
   "source": [
    "concurrent_test(1)"
   ]
  },
  {
   "cell_type": "code",
   "execution_count": 4,
   "id": "03a889fd-47a5-4601-9755-7ed905b138bd",
   "metadata": {},
   "outputs": [
    {
     "data": {
      "text/plain": [
       "202.75688994904536"
      ]
     },
     "execution_count": 4,
     "metadata": {},
     "output_type": "execute_result"
    }
   ],
   "source": [
    "concurrent_test(2)"
   ]
  },
  {
   "cell_type": "code",
   "execution_count": 5,
   "id": "f9c75ecc-4784-45fe-beaf-b5ece33eb96b",
   "metadata": {},
   "outputs": [
    {
     "data": {
      "text/plain": [
       "318.1629820216799"
      ]
     },
     "execution_count": 5,
     "metadata": {},
     "output_type": "execute_result"
    }
   ],
   "source": [
    "concurrent_test(10)"
   ]
  },
  {
   "cell_type": "code",
   "execution_count": 6,
   "id": "9f7dae9f-776f-4e29-8ca9-dbb1a2640c21",
   "metadata": {},
   "outputs": [
    {
     "data": {
      "text/plain": [
       "364.9845918727431"
      ]
     },
     "execution_count": 6,
     "metadata": {},
     "output_type": "execute_result"
    }
   ],
   "source": [
    "concurrent_test(50)"
   ]
  },
  {
   "cell_type": "code",
   "execution_count": 7,
   "id": "a6dadbbf-e52a-468c-8681-d1e95bf0390d",
   "metadata": {},
   "outputs": [
    {
     "data": {
      "text/plain": [
       "377.2531939066671"
      ]
     },
     "execution_count": 7,
     "metadata": {},
     "output_type": "execute_result"
    }
   ],
   "source": [
    "concurrent_test(100)"
   ]
  },
  {
   "cell_type": "code",
   "execution_count": null,
   "id": "d13f2949-707b-4dcf-981d-37841dd3dcdf",
   "metadata": {},
   "outputs": [],
   "source": []
  }
 ],
 "metadata": {
  "kernelspec": {
   "display_name": "Python 3 (ipykernel)",
   "language": "python",
   "name": "python3"
  },
  "language_info": {
   "codemirror_mode": {
    "name": "ipython",
    "version": 3
   },
   "file_extension": ".py",
   "mimetype": "text/x-python",
   "name": "python",
   "nbconvert_exporter": "python",
   "pygments_lexer": "ipython3",
   "version": "3.10.13"
  }
 },
 "nbformat": 4,
 "nbformat_minor": 5
}
