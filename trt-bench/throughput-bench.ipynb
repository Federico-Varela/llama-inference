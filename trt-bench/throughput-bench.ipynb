{
 "cells": [
  {
   "cell_type": "code",
   "execution_count": 1,
   "id": "5a3bc225-c642-4c8d-b244-1a23bf6aa39d",
   "metadata": {},
   "outputs": [],
   "source": [
    "import requests, time\n",
    "import threading\n",
    "from transformers import AutoTokenizer\n",
    "tokenizer = AutoTokenizer.from_pretrained(\"NousResearch/Llama-2-7b-hf\")"
   ]
  },
  {
   "cell_type": "code",
   "execution_count": 3,
   "id": "1cc9829d-ced8-46e0-8ece-9e738625d928",
   "metadata": {},
   "outputs": [],
   "source": [
    "def send_request(i):\n",
    "    global out\n",
    "    url = 'http://localhost:8000/v2/models/ensemble/generate'\n",
    "    data = {\n",
    "        \"text_input\": \"How do I count to nine in French?\",\n",
    "        \"parameters\": {\n",
    "            \"max_tokens\": 500,\n",
    "            \"bad_words\": [\"\"],\n",
    "            \"stop_words\": [\"\"],\n",
    "            \"temperature\": 0,\n",
    "        }\n",
    "    }\n",
    "    response = requests.post(url, json=data)\n",
    "    out[i] = response.json()['text_output']\n",
    "\n",
    "def concurrent_test(n_threads):\n",
    "    global out\n",
    "    out = [None] * n_threads # pre allocate a list\n",
    "    threads = []\n",
    "    for index in range(n_threads):\n",
    "        x = threading.Thread(target=send_request, args=(index,))\n",
    "        threads.append(x)\n",
    "        \n",
    "    start = time.perf_counter()\n",
    "    for t in threads: t.start()\n",
    "    for t in threads: t.join()\n",
    "    request_time = time.perf_counter() - start\n",
    "    toks = sum([len(tokenizer.encode(o)) for o in out])\n",
    "    return toks / request_time"
   ]
  },
  {
   "cell_type": "code",
   "execution_count": 4,
   "id": "a1d31835-a86f-467b-a353-9fd031907b4a",
   "metadata": {},
   "outputs": [],
   "source": [
    "def measure(bs, n_times=3):\n",
    "    import numpy as np\n",
    "    m = [concurrent_test(bs) for _ in range(n_times)]\n",
    "    avg_toksec = np.mean(m)\n",
    "    avg_toksec_per_thread = avg_toksec / bs\n",
    "    print(f'\\n\\nConcurrent Requests={bs} (averaged over {n_times} separate experiments)\\n==============================\\ntok/sec total:      {avg_toksec:.1f}\\ntok/sec per thread: {avg_toksec_per_thread:.1f}')"
   ]
  },
  {
   "cell_type": "code",
   "execution_count": 5,
   "id": "048d94ea-de7d-4f0c-9101-1b89bdb7118c",
   "metadata": {},
   "outputs": [
    {
     "name": "stdout",
     "output_type": "stream",
     "text": [
      "\n",
      "\n",
      "Concurrent Requests=1 (averaged over 3 separate experiments)\n",
      "==============================\n",
      "tok/sec total:      185.3\n",
      "tok/sec per thread: 185.3\n",
      "\n",
      "\n",
      "Concurrent Requests=2 (averaged over 3 separate experiments)\n",
      "==============================\n",
      "tok/sec total:      355.7\n",
      "tok/sec per thread: 177.9\n",
      "\n",
      "\n",
      "Concurrent Requests=4 (averaged over 3 separate experiments)\n",
      "==============================\n",
      "tok/sec total:      638.5\n",
      "tok/sec per thread: 159.6\n",
      "\n",
      "\n",
      "Concurrent Requests=8 (averaged over 3 separate experiments)\n",
      "==============================\n",
      "tok/sec total:      958.1\n",
      "tok/sec per thread: 119.8\n",
      "\n",
      "\n",
      "Concurrent Requests=16 (averaged over 3 separate experiments)\n",
      "==============================\n",
      "tok/sec total:      961.5\n",
      "tok/sec per thread: 60.1\n",
      "\n",
      "\n",
      "Concurrent Requests=32 (averaged over 3 separate experiments)\n",
      "==============================\n",
      "tok/sec total:      962.1\n",
      "tok/sec per thread: 30.1\n",
      "\n",
      "\n",
      "Concurrent Requests=64 (averaged over 3 separate experiments)\n",
      "==============================\n",
      "tok/sec total:      963.0\n",
      "tok/sec per thread: 15.0\n"
     ]
    }
   ],
   "source": [
    "for bs in [1,2,4,8,16,32,64]:\n",
    "    measure(bs)"
   ]
  },
  {
   "cell_type": "code",
   "execution_count": null,
   "id": "425dd446-d0e8-4ef6-a21b-07aedfe0a8da",
   "metadata": {},
   "outputs": [],
   "source": []
  }
 ],
 "metadata": {
  "kernelspec": {
   "display_name": "Python 3 (ipykernel)",
   "language": "python",
   "name": "python3"
  },
  "language_info": {
   "codemirror_mode": {
    "name": "ipython",
    "version": 3
   },
   "file_extension": ".py",
   "mimetype": "text/x-python",
   "name": "python",
   "nbconvert_exporter": "python",
   "pygments_lexer": "ipython3",
   "version": "3.10.13"
  }
 },
 "nbformat": 4,
 "nbformat_minor": 5
}
